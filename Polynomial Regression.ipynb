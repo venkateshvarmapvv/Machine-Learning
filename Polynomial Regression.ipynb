{
 "cells": [
  {
   "cell_type": "code",
   "execution_count": 1,
   "metadata": {},
   "outputs": [],
   "source": [
    "import pandas as pd\n",
    "import numpy as np"
   ]
  },
  {
   "cell_type": "code",
   "execution_count": 2,
   "metadata": {},
   "outputs": [],
   "source": [
    "data = pd.read_csv(\"Housing.csv\")"
   ]
  },
  {
   "cell_type": "code",
   "execution_count": 6,
   "metadata": {},
   "outputs": [],
   "source": [
    "data1 = data[[\"area\", \"price\"]]"
   ]
  },
  {
   "cell_type": "code",
   "execution_count": 7,
   "metadata": {},
   "outputs": [],
   "source": [
    "inp = data['area']"
   ]
  },
  {
   "cell_type": "code",
   "execution_count": 8,
   "metadata": {},
   "outputs": [],
   "source": [
    "out = data[\"price\"]"
   ]
  },
  {
   "cell_type": "code",
   "execution_count": 11,
   "metadata": {},
   "outputs": [
    {
     "name": "stderr",
     "output_type": "stream",
     "text": [
      "C:\\Users\\Alwin\\Anaconda3\\lib\\site-packages\\sklearn\\preprocessing\\data.py:334: DataConversionWarning: Data with input dtype int64 were all converted to float64 by MinMaxScaler.\n",
      "  return self.partial_fit(X, y)\n"
     ]
    }
   ],
   "source": [
    "from sklearn.preprocessing import MinMaxScaler\n",
    "minmax = MinMaxScaler()\n",
    "data1_sc =minmax.fit_transform(data1)"
   ]
  },
  {
   "cell_type": "code",
   "execution_count": 14,
   "metadata": {},
   "outputs": [],
   "source": [
    "data1_sc = pd.DataFrame(data1_sc)\n",
    "data1_sc.columns = data1.columns"
   ]
  },
  {
   "cell_type": "code",
   "execution_count": 15,
   "metadata": {},
   "outputs": [
    {
     "data": {
      "text/html": [
       "<div>\n",
       "<style scoped>\n",
       "    .dataframe tbody tr th:only-of-type {\n",
       "        vertical-align: middle;\n",
       "    }\n",
       "\n",
       "    .dataframe tbody tr th {\n",
       "        vertical-align: top;\n",
       "    }\n",
       "\n",
       "    .dataframe thead th {\n",
       "        text-align: right;\n",
       "    }\n",
       "</style>\n",
       "<table border=\"1\" class=\"dataframe\">\n",
       "  <thead>\n",
       "    <tr style=\"text-align: right;\">\n",
       "      <th></th>\n",
       "      <th>area</th>\n",
       "      <th>price</th>\n",
       "    </tr>\n",
       "  </thead>\n",
       "  <tbody>\n",
       "    <tr>\n",
       "      <th>0</th>\n",
       "      <td>0.396564</td>\n",
       "      <td>1.000000</td>\n",
       "    </tr>\n",
       "    <tr>\n",
       "      <th>1</th>\n",
       "      <td>0.502405</td>\n",
       "      <td>0.909091</td>\n",
       "    </tr>\n",
       "    <tr>\n",
       "      <th>2</th>\n",
       "      <td>0.571134</td>\n",
       "      <td>0.909091</td>\n",
       "    </tr>\n",
       "    <tr>\n",
       "      <th>3</th>\n",
       "      <td>0.402062</td>\n",
       "      <td>0.906061</td>\n",
       "    </tr>\n",
       "    <tr>\n",
       "      <th>4</th>\n",
       "      <td>0.396564</td>\n",
       "      <td>0.836364</td>\n",
       "    </tr>\n",
       "  </tbody>\n",
       "</table>\n",
       "</div>"
      ],
      "text/plain": [
       "       area     price\n",
       "0  0.396564  1.000000\n",
       "1  0.502405  0.909091\n",
       "2  0.571134  0.909091\n",
       "3  0.402062  0.906061\n",
       "4  0.396564  0.836364"
      ]
     },
     "execution_count": 15,
     "metadata": {},
     "output_type": "execute_result"
    }
   ],
   "source": [
    "data1_sc.head()"
   ]
  },
  {
   "cell_type": "code",
   "execution_count": 21,
   "metadata": {},
   "outputs": [],
   "source": [
    "from sklearn.model_selection import train_test_split\n",
    "xtrain,xtest,ytrain,ytest = train_test_split(data1_sc[\"area\"], data1_sc[\"price\"], test_size = 0.3, random_state = 48)"
   ]
  },
  {
   "cell_type": "code",
   "execution_count": 22,
   "metadata": {},
   "outputs": [],
   "source": [
    "xtrain = xtrain.values.reshape(-1,1)"
   ]
  },
  {
   "cell_type": "code",
   "execution_count": 18,
   "metadata": {},
   "outputs": [
    {
     "data": {
      "text/plain": [
       "(381, 1)"
      ]
     },
     "execution_count": 18,
     "metadata": {},
     "output_type": "execute_result"
    }
   ],
   "source": [
    "xtrain.shape"
   ]
  },
  {
   "cell_type": "code",
   "execution_count": 23,
   "metadata": {},
   "outputs": [],
   "source": [
    "xtest = xtest.values.reshape(-1,1)"
   ]
  },
  {
   "cell_type": "code",
   "execution_count": 24,
   "metadata": {},
   "outputs": [
    {
     "data": {
      "text/plain": [
       "(164, 1)"
      ]
     },
     "execution_count": 24,
     "metadata": {},
     "output_type": "execute_result"
    }
   ],
   "source": [
    "xtest.shape"
   ]
  },
  {
   "cell_type": "code",
   "execution_count": 47,
   "metadata": {},
   "outputs": [],
   "source": [
    "from sklearn.linear_model import LinearRegression\n",
    "lin_mod = LinearRegression()\n",
    "lin_mod = lin_mod.fit(xtrain,ytrain)\n",
    "ypred_lin = lin_mod.predict(xtrain)\n",
    "ypred_Lin = lin_mod.predict(xtest)"
   ]
  },
  {
   "cell_type": "code",
   "execution_count": 27,
   "metadata": {},
   "outputs": [
    {
     "data": {
      "text/plain": [
       "array([0.17186721, 0.22222665, 0.20246535, 0.32018319, 0.26047432,\n",
       "       0.18334151, 0.3414319 , 0.21691447, 0.28788516, 0.28618526,\n",
       "       0.39242881, 0.13935668, 0.29468474, 0.32932014, 0.27768578,\n",
       "       0.24368784, 0.21818939, 0.21776442, 0.21181478, 0.20289032,\n",
       "       0.31338361, 0.21818939, 0.21393965, 0.49442261, 0.19609073,\n",
       "       0.18691129, 0.24368784, 0.20374027, 0.17569197, 0.17569197,\n",
       "       0.25898691, 0.3184833 , 0.20119043, 0.49442261, 0.21988929,\n",
       "       0.25643707, 0.33505729, 0.19481581, 0.30097436, 0.19354089,\n",
       "       0.3168259 , 0.46722426, 0.32443294, 0.20799001, 0.20756504,\n",
       "       0.30318423, 0.4846057 , 0.23306349, 0.17569197, 0.30318423,\n",
       "       0.2394381 , 0.21138981, 0.15019352, 0.19694068, 0.19524079,\n",
       "       0.29587467, 0.34568165, 0.30743397, 0.32613283, 0.30318423,\n",
       "       0.21181478, 0.22498898, 0.16294275, 0.25303727, 0.32655781,\n",
       "       0.20544017, 0.24368784, 0.30148433, 0.5982863 , 0.20289032,\n",
       "       0.20629012, 0.33378237, 0.30318423, 0.35214125, 0.20289032,\n",
       "       0.53522013, 0.34929393, 0.39242881, 0.20051047, 0.32868268,\n",
       "       0.175267  , 0.24028805, 0.23518836, 0.22498898, 0.20289032,\n",
       "       0.26706142, 0.11832046, 0.19779063, 0.27768578, 0.2394381 ,\n",
       "       0.26918629, 0.17951674, 0.20756504, 0.22014427, 0.21988929,\n",
       "       0.30743397, 0.2394381 , 0.21818939, 0.183554  , 0.21181478,\n",
       "       0.27428598, 0.25643707, 0.16931736, 0.30318423, 0.26034683,\n",
       "       0.20246535, 0.27768578, 0.13999414, 0.22158919, 0.29468474,\n",
       "       0.20756504, 0.16664002, 0.21036987, 0.30318423, 0.16226279,\n",
       "       0.60916564, 0.21988929, 0.18079166, 0.30403418, 0.21818939,\n",
       "       0.26646646, 0.30488412, 0.17569197, 0.32230807, 0.19481581,\n",
       "       0.25388722, 0.3184833 , 0.33888206, 0.35248123, 0.28193552,\n",
       "       0.40517803, 0.13935668, 0.33335739, 0.2164895 , 0.20289032,\n",
       "       0.28193552, 0.32358299, 0.18334151, 0.37457989, 0.31805832,\n",
       "       0.22328908, 0.17569197, 0.23093862, 0.29255987, 0.50292209,\n",
       "       0.19269094, 0.29829702, 0.1786243 , 0.19609073, 0.35418113,\n",
       "       0.23263851, 0.3184833 , 0.21181478, 0.33505729, 0.19354089,\n",
       "       0.39880342, 0.42557679, 0.20934993, 0.34568165, 0.17569197,\n",
       "       0.28958505, 0.59641641, 0.22243913, 0.19745065])"
      ]
     },
     "execution_count": 27,
     "metadata": {},
     "output_type": "execute_result"
    }
   ],
   "source": [
    "ypred_lin"
   ]
  },
  {
   "cell_type": "code",
   "execution_count": 35,
   "metadata": {},
   "outputs": [
    {
     "data": {
      "text/plain": [
       "array([0.17186721, 0.22222665, 0.20246535, 0.32018319, 0.26047432,\n",
       "       0.18334151, 0.3414319 , 0.21691447, 0.28788516, 0.28618526,\n",
       "       0.39242881, 0.13935668, 0.29468474, 0.32932014, 0.27768578,\n",
       "       0.24368784, 0.21818939, 0.21776442, 0.21181478, 0.20289032,\n",
       "       0.31338361, 0.21818939, 0.21393965, 0.49442261, 0.19609073,\n",
       "       0.18691129, 0.24368784, 0.20374027, 0.17569197, 0.17569197,\n",
       "       0.25898691, 0.3184833 , 0.20119043, 0.49442261, 0.21988929,\n",
       "       0.25643707, 0.33505729, 0.19481581, 0.30097436, 0.19354089,\n",
       "       0.3168259 , 0.46722426, 0.32443294, 0.20799001, 0.20756504,\n",
       "       0.30318423, 0.4846057 , 0.23306349, 0.17569197, 0.30318423,\n",
       "       0.2394381 , 0.21138981, 0.15019352, 0.19694068, 0.19524079,\n",
       "       0.29587467, 0.34568165, 0.30743397, 0.32613283, 0.30318423,\n",
       "       0.21181478, 0.22498898, 0.16294275, 0.25303727, 0.32655781,\n",
       "       0.20544017, 0.24368784, 0.30148433, 0.5982863 , 0.20289032,\n",
       "       0.20629012, 0.33378237, 0.30318423, 0.35214125, 0.20289032,\n",
       "       0.53522013, 0.34929393, 0.39242881, 0.20051047, 0.32868268,\n",
       "       0.175267  , 0.24028805, 0.23518836, 0.22498898, 0.20289032,\n",
       "       0.26706142, 0.11832046, 0.19779063, 0.27768578, 0.2394381 ,\n",
       "       0.26918629, 0.17951674, 0.20756504, 0.22014427, 0.21988929,\n",
       "       0.30743397, 0.2394381 , 0.21818939, 0.183554  , 0.21181478,\n",
       "       0.27428598, 0.25643707, 0.16931736, 0.30318423, 0.26034683,\n",
       "       0.20246535, 0.27768578, 0.13999414, 0.22158919, 0.29468474,\n",
       "       0.20756504, 0.16664002, 0.21036987, 0.30318423, 0.16226279,\n",
       "       0.60916564, 0.21988929, 0.18079166, 0.30403418, 0.21818939,\n",
       "       0.26646646, 0.30488412, 0.17569197, 0.32230807, 0.19481581,\n",
       "       0.25388722, 0.3184833 , 0.33888206, 0.35248123, 0.28193552,\n",
       "       0.40517803, 0.13935668, 0.33335739, 0.2164895 , 0.20289032,\n",
       "       0.28193552, 0.32358299, 0.18334151, 0.37457989, 0.31805832,\n",
       "       0.22328908, 0.17569197, 0.23093862, 0.29255987, 0.50292209,\n",
       "       0.19269094, 0.29829702, 0.1786243 , 0.19609073, 0.35418113,\n",
       "       0.23263851, 0.3184833 , 0.21181478, 0.33505729, 0.19354089,\n",
       "       0.39880342, 0.42557679, 0.20934993, 0.34568165, 0.17569197,\n",
       "       0.28958505, 0.59641641, 0.22243913, 0.19745065])"
      ]
     },
     "execution_count": 35,
     "metadata": {},
     "output_type": "execute_result"
    }
   ],
   "source": [
    "ypred_Lin"
   ]
  },
  {
   "cell_type": "code",
   "execution_count": 36,
   "metadata": {},
   "outputs": [
    {
     "data": {
      "text/plain": [
       "<matplotlib.collections.PathCollection at 0x19e9c4a5fd0>"
      ]
     },
     "execution_count": 36,
     "metadata": {},
     "output_type": "execute_result"
    },
    {
     "data": {
      "image/png": "[encoded data removed]",
      "text/plain": [
       "<Figure size 432x288 with 1 Axes>"
      ]
     },
     "metadata": {
      "needs_background": "light"
     },
     "output_type": "display_data"
    }
   ],
   "source": [
    "import matplotlib.pyplot as plt\n",
    "import seaborn as sb\n",
    "%matplotlib inline\n",
    "plt.scatter(xtrain,ytrain)\n",
    "plt.scatter(xtrain,ypred_lin)"
   ]
  },
  {
   "cell_type": "code",
   "execution_count": 38,
   "metadata": {},
   "outputs": [
    {
     "data": {
      "text/plain": [
       "<matplotlib.collections.PathCollection at 0x19e9c9243c8>"
      ]
     },
     "execution_count": 38,
     "metadata": {},
     "output_type": "execute_result"
    },
    {
     "data": {
      "image/png": "[encoded data removed]",
      "text/plain": [
       "<Figure size 432x288 with 1 Axes>"
      ]
     },
     "metadata": {
      "needs_background": "light"
     },
     "output_type": "display_data"
    }
   ],
   "source": [
    "plt.scatter(xtest,ytest)\n",
    "plt.scatter(xtest,ypred_Lin, s=12)"
   ]
  },
  {
   "cell_type": "code",
   "execution_count": 40,
   "metadata": {},
   "outputs": [
    {
     "name": "stdout",
     "output_type": "stream",
     "text": [
      "0.30823844185143434\n",
      "0.2025012227687898\n"
     ]
    }
   ],
   "source": [
    "from sklearn.metrics import r2_score\n",
    "r2_train=r2_score(ytrain,ypred_lin)\n",
    "r2_test = r2_score(ytest,ypred_Lin)\n",
    "print(r2_train)\n",
    "print(r2_test)"
   ]
  },
  {
   "cell_type": "code",
   "execution_count": 49,
   "metadata": {},
   "outputs": [
    {
     "data": {
      "text/plain": [
       "array([0.61833743])"
      ]
     },
     "execution_count": 49,
     "metadata": {},
     "output_type": "execute_result"
    }
   ],
   "source": [
    "lin_mod.coef_"
   ]
  },
  {
   "cell_type": "code",
   "execution_count": 51,
   "metadata": {},
   "outputs": [
    {
     "data": {
      "text/plain": [
       "0.11832046019162934"
      ]
     },
     "execution_count": 51,
     "metadata": {},
     "output_type": "execute_result"
    }
   ],
   "source": [
    "lin_mod.intercept_"
   ]
  },
  {
   "cell_type": "code",
   "execution_count": 52,
   "metadata": {},
   "outputs": [],
   "source": [
    "from sklearn.preprocessing import PolynomialFeatures\n",
    "from sklearn.pipeline import make_pipeline"
   ]
  },
  {
   "cell_type": "code",
   "execution_count": 53,
   "metadata": {},
   "outputs": [],
   "source": [
    "poly_model = make_pipeline(PolynomialFeatures(4),LinearRegression())"
   ]
  },
  {
   "cell_type": "code",
   "execution_count": 55,
   "metadata": {},
   "outputs": [],
   "source": [
    "poly_model.fit(xtrain,ytrain)\n",
    "pm_ypred_lin=poly_model.predict(xtrain)\n",
    "pm_ypred_Lin = poly_model.predict(xtest)"
   ]
  },
  {
   "cell_type": "code",
   "execution_count": 57,
   "metadata": {},
   "outputs": [
    {
     "data": {
      "text/plain": [
       "<matplotlib.collections.PathCollection at 0x19e9ca87128>"
      ]
     },
     "execution_count": 57,
     "metadata": {},
     "output_type": "execute_result"
    },
    {
     "data": {
      "image/png": "[encoded data removed]",
      "text/plain": [
       "<Figure size 432x288 with 1 Axes>"
      ]
     },
     "metadata": {
      "needs_background": "light"
     },
     "output_type": "display_data"
    }
   ],
   "source": [
    "plt.scatter(xtrain,ytrain)\n",
    "plt.scatter(xtrain,pm_ypred_lin)"
   ]
  },
  {
   "cell_type": "code",
   "execution_count": 58,
   "metadata": {},
   "outputs": [
    {
     "data": {
      "text/plain": [
       "<matplotlib.collections.PathCollection at 0x19e9caeaf28>"
      ]
     },
     "execution_count": 58,
     "metadata": {},
     "output_type": "execute_result"
    },
    {
     "data": {
      "image/png": "[encoded data removed]",
      "text/plain": [
       "<Figure size 432x288 with 1 Axes>"
      ]
     },
     "metadata": {
      "needs_background": "light"
     },
     "output_type": "display_data"
    }
   ],
   "source": [
    "plt.scatter(xtest,ytest)\n",
    "plt.scatter(xtest,pm_ypred_Lin)"
   ]
  },
  {
   "cell_type": "code",
   "execution_count": 61,
   "metadata": {},
   "outputs": [
    {
     "name": "stdout",
     "output_type": "stream",
     "text": [
      "0.34379170498997713\n"
     ]
    }
   ],
   "source": [
    "r2_test1 = r2_score(ytest,pm_ypred_Lin)\n",
    "print(r2_train1)"
   ]
  },
  {
   "cell_type": "code",
   "execution_count": 62,
   "metadata": {},
   "outputs": [
    {
     "name": "stdout",
     "output_type": "stream",
     "text": [
      "0.3385573435853586\n"
     ]
    }
   ],
   "source": [
    "r2_train1 = r2_score(ytrain,pm_ypred_lin)\n",
    "print(r2_train1)"
   ]
  },
  {
   "cell_type": "code",
   "execution_count": 63,
   "metadata": {},
   "outputs": [
    {
     "data": {
      "text/plain": [
       "array([  0.        ,  -0.03081351,   5.13804954, -10.89902717,\n",
       "         6.32112749])"
      ]
     },
     "execution_count": 63,
     "metadata": {},
     "output_type": "execute_result"
    }
   ],
   "source": [
    "poly_model.steps[1][1].coef_"
   ]
  },
  {
   "cell_type": "code",
   "execution_count": 64,
   "metadata": {},
   "outputs": [
    {
     "data": {
      "text/plain": [
       "0.12176848036481347"
      ]
     },
     "execution_count": 64,
     "metadata": {},
     "output_type": "execute_result"
    }
   ],
   "source": [
    "poly_model.steps[1][1].intercept_"
   ]
  },
  {
   "cell_type": "code",
   "execution_count": 71,
   "metadata": {},
   "outputs": [
    {
     "data": {
      "text/plain": [
       "LinearRegression(copy_X=True, fit_intercept=True, n_jobs=None,\n",
       "         normalize=False)"
      ]
     },
     "execution_count": 71,
     "metadata": {},
     "output_type": "execute_result"
    }
   ],
   "source": []
  }
 ],
 "metadata": {
  "kernelspec": {
   "display_name": "Python 3",
   "language": "python",
   "name": "python3"
  },
  "language_info": {
   "codemirror_mode": {
    "name": "ipython",
    "version": 3
   },
   "file_extension": ".py",
   "mimetype": "text/x-python",
   "name": "python",
   "nbconvert_exporter": "python",
   "pygments_lexer": "ipython3",
   "version": "3.7.6"
  }
 },
 "nbformat": 4,
 "nbformat_minor": 2
}
